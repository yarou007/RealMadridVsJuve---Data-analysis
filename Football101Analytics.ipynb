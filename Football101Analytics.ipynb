{
 "cells": [
  {
   "cell_type": "markdown",
   "id": "ba5948a6",
   "metadata": {},
   "source": [
    "Just chilling and coding football analysis "
   ]
  },
  {
   "cell_type": "markdown",
   "id": "7509be74",
   "metadata": {},
   "source": [
    "# Loataro test goals analysis "
   ]
  },
  {
   "cell_type": "code",
   "execution_count": 56,
   "id": "be9f9537",
   "metadata": {},
   "outputs": [
    {
     "name": "stdout",
     "output_type": "stream",
     "text": [
      "How many 90s minutes in all combined minutes | Matches palyed | Appearanes: 133.57\n",
      "goals per 90 minutes xG : 0.67\n"
     ]
    }
   ],
   "source": [
    "import math \n",
    "goals = 90\n",
    "minutes = 12021\n",
    "\n",
    "times_90 = minutes / 90 ; \n",
    "print (f'How many 90s minutes in all combined minutes | Matches palyed | Appearanes: {times_90:.2f}')\n",
    "goals_per_90 = goals / times_90\n",
    "print(f'goals per 90 minutes xG : {goals_per_90:.2f}') # impressive , great scorer \n"
   ]
  },
  {
   "cell_type": "markdown",
   "id": "35821256",
   "metadata": {},
   "source": [
    "String operation"
   ]
  },
  {
   "cell_type": "code",
   "execution_count": 34,
   "id": "9ec89d16",
   "metadata": {},
   "outputs": [
    {
     "name": "stdout",
     "output_type": "stream",
     "text": [
      "1815\n",
      "1818\n"
     ]
    }
   ],
   "source": [
    "goals_22= \"18\"\n",
    "goals_23= \"15\"\n",
    "\n",
    "total = goals_22 + goals_23\n",
    "print(total)\n",
    "total = goals_22 *2\n",
    "print(total)\n"
   ]
  },
  {
   "cell_type": "markdown",
   "id": "d1f0b9e4",
   "metadata": {},
   "source": [
    "User input "
   ]
  },
  {
   "cell_type": "code",
   "execution_count": 54,
   "id": "8d799a6b",
   "metadata": {},
   "outputs": [
    {
     "data": {
      "text/plain": [
       "(15, 5698)"
      ]
     },
     "execution_count": 54,
     "metadata": {},
     "output_type": "execute_result"
    }
   ],
   "source": [
    "goals = input(\"Enter the number of goals: \")\n",
    "minutes = input(\"Enter the number of minutes: \")\n",
    "\n",
    "goals = int(goals)\n",
    "minutes = int(minutes)\n",
    "\n",
    "goals, minutes\n"
   ]
  },
  {
   "cell_type": "code",
   "execution_count": null,
   "id": "41efa924",
   "metadata": {},
   "outputs": [
    {
     "name": "stdout",
     "output_type": "stream",
     "text": [
      "2.3333333333333335\n",
      "2\n",
      "1\n",
      "5\n",
      "56\n"
     ]
    }
   ],
   "source": [
    "print(7/3)\n",
    "print(7//3)\n",
    "print(7%3)\n",
    "print(15%10)\n",
    "print(156%100)\n",
    "\n"
   ]
  },
  {
   "cell_type": "markdown",
   "id": "5c30a418",
   "metadata": {},
   "source": [
    "How many lautaro goals scorred per 90 minutes "
   ]
  },
  {
   "cell_type": "code",
   "execution_count": 55,
   "id": "0c162ec1",
   "metadata": {},
   "outputs": [
    {
     "name": "stdout",
     "output_type": "stream",
     "text": [
      "90.0\n",
      "<class 'int'>\n",
      "<class 'str'>\n"
     ]
    }
   ],
   "source": [
    "print(goals_per_90*times_90)\n",
    "\n",
    "print(type(goals))\n",
    "goals = str(goals) \n",
    "print(type(goals))\n"
   ]
  },
  {
   "cell_type": "markdown",
   "id": "fbf89fe7",
   "metadata": {},
   "source": [
    "Improving output "
   ]
  },
  {
   "cell_type": "code",
   "execution_count": 62,
   "id": "fb5a9839",
   "metadata": {},
   "outputs": [
    {
     "name": "stdout",
     "output_type": "stream",
     "text": [
      "Lautaro Martinez on average scores 0.67 per 90 minutes \n"
     ]
    }
   ],
   "source": [
    "Player = 'Lautaro Martinez'\n",
    "print(\"{} on average scores {:.2f} per 90 minutes \".format(Player,goals_per_90))"
   ]
  }
 ],
 "metadata": {
  "kernelspec": {
   "display_name": "Python 3",
   "language": "python",
   "name": "python3"
  },
  "language_info": {
   "codemirror_mode": {
    "name": "ipython",
    "version": 3
   },
   "file_extension": ".py",
   "mimetype": "text/x-python",
   "name": "python",
   "nbconvert_exporter": "python",
   "pygments_lexer": "ipython3",
   "version": "3.12.3"
  }
 },
 "nbformat": 4,
 "nbformat_minor": 5
}
